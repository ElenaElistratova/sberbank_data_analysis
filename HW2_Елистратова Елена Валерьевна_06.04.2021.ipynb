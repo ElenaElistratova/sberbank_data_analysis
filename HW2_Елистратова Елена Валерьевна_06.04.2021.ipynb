{
 "cells": [
  {
   "cell_type": "code",
   "execution_count": 8,
   "metadata": {},
   "outputs": [],
   "source": [
    "import numpy as np\n",
    "import time"
   ]
  },
  {
   "cell_type": "markdown",
   "metadata": {},
   "source": [
    "Упражнение 1\n",
    "На одном графике изобразите время затраченное на вычисление с использованием массивов numpy и стандартных списков в питоне.\n",
    "Для более точных результатов замеряйте время выполнения функции несколько раз и усредняйте.\n",
    "\n",
    "Используйте функцию z = 2*x**2 + 4*y"
   ]
  },
  {
   "cell_type": "code",
   "execution_count": 29,
   "metadata": {
    "scrolled": true
   },
   "outputs": [],
   "source": [
    "def func1(n):\n",
    "    x = range(n)\n",
    "    y = range(n)\n",
    "    z = [2*x[i]**2 + 4*y[i] for i in range(len(x))]\n",
    "    return(z)\n",
    "\n",
    "def func2(n):\n",
    "    x = np.arange(n)\n",
    "    y = np.arange(n)\n",
    "    z = 2*x**2 + 4*y\n",
    "    return(z)"
   ]
  },
  {
   "cell_type": "code",
   "execution_count": 35,
   "metadata": {},
   "outputs": [
    {
     "name": "stdout",
     "output_type": "stream",
     "text": [
      "func1: 0.8589675426483154\n",
      "func2: 0.0034525394439697266\n"
     ]
    }
   ],
   "source": [
    "tasks = [func1, func2]\n",
    "for func in tasks:\n",
    "    t = time.time()\n",
    "    func(1000000)\n",
    "    print(f\"{func.__name__}: {time.time()-t}\")"
   ]
  },
  {
   "cell_type": "markdown",
   "metadata": {},
   "source": [
    "Упражнение 2\n",
    "Создайте массив чисел от 2 до 75. Выведите только нечётные.\n",
    "Присвойте нечётным числам этого массива значение -1."
   ]
  },
  {
   "cell_type": "code",
   "execution_count": 30,
   "metadata": {},
   "outputs": [
    {
     "data": {
      "text/plain": [
       "array([ 3,  5,  7,  9, 11, 13, 15, 17, 19, 21, 23, 25, 27, 29, 31, 33, 35,\n",
       "       37, 39, 41, 43, 45, 47, 49, 51, 53, 55, 57, 59, 61, 63, 65, 67, 69,\n",
       "       71, 73])"
      ]
     },
     "execution_count": 30,
     "metadata": {},
     "output_type": "execute_result"
    }
   ],
   "source": [
    "a = np.arange(2,75)\n",
    "a[a%2==1]"
   ]
  },
  {
   "cell_type": "code",
   "execution_count": 31,
   "metadata": {},
   "outputs": [
    {
     "data": {
      "text/plain": [
       "array([ 2, -1,  4, -1,  6, -1,  8, -1, 10, -1, 12, -1, 14, -1, 16, -1, 18,\n",
       "       -1, 20, -1, 22, -1, 24, -1, 26, -1, 28, -1, 30, -1, 32, -1, 34, -1,\n",
       "       36, -1, 38, -1, 40, -1, 42, -1, 44, -1, 46, -1, 48, -1, 50, -1, 52,\n",
       "       -1, 54, -1, 56, -1, 58, -1, 60, -1, 62, -1, 64, -1, 66, -1, 68, -1,\n",
       "       70, -1, 72, -1, 74])"
      ]
     },
     "execution_count": 31,
     "metadata": {},
     "output_type": "execute_result"
    }
   ],
   "source": [
    "a[a%2==1] = -1\n",
    "a"
   ]
  },
  {
   "cell_type": "markdown",
   "metadata": {},
   "source": [
    "Упражнение 3\n",
    "Найдите в документации функцию, которая удаляет из одного массива элементы, которые есть в другом.\n",
    "Приведите примеры использования."
   ]
  },
  {
   "cell_type": "code",
   "execution_count": 232,
   "metadata": {},
   "outputs": [],
   "source": [
    "a = np.array([2, 7, 8, 10, 13])\n",
    "b = np.array([7, 13])"
   ]
  },
  {
   "cell_type": "code",
   "execution_count": 233,
   "metadata": {},
   "outputs": [
    {
     "data": {
      "text/plain": [
       "array([ 2,  8, 10])"
      ]
     },
     "execution_count": 233,
     "metadata": {},
     "output_type": "execute_result"
    }
   ],
   "source": [
    "a[b[np.searchsorted(b,a)] !=  a]"
   ]
  },
  {
   "cell_type": "markdown",
   "metadata": {},
   "source": [
    "Упражнение 4\n",
    "Создайте случайную квадратную матрицу случайного размера от 10 до 100.\n",
    "Найдите максимум и сумму элементов.\n",
    "Поделите каждый элемент матрицы на максимум.\n",
    "Отнимите от каждой строки матрицы среднее по строке.\n",
    "Замените максимальное значение на -1."
   ]
  },
  {
   "cell_type": "code",
   "execution_count": 97,
   "metadata": {},
   "outputs": [
    {
     "data": {
      "text/plain": [
       "array([[1.69533194, 0.05593564, 0.92686416, ..., 0.79218111, 0.7878138 ,\n",
       "        0.74954423],\n",
       "       [0.69533194, 1.05593564, 0.92686416, ..., 0.79218111, 0.7878138 ,\n",
       "        0.74954423],\n",
       "       [0.69533194, 0.05593564, 1.92686416, ..., 0.79218111, 0.7878138 ,\n",
       "        0.74954423],\n",
       "       ...,\n",
       "       [0.69533194, 0.05593564, 0.92686416, ..., 1.79218111, 0.7878138 ,\n",
       "        0.74954423],\n",
       "       [0.69533194, 0.05593564, 0.92686416, ..., 0.79218111, 1.7878138 ,\n",
       "        0.74954423],\n",
       "       [0.69533194, 0.05593564, 0.92686416, ..., 0.79218111, 0.7878138 ,\n",
       "        1.74954423]])"
      ]
     },
     "execution_count": 97,
     "metadata": {},
     "output_type": "execute_result"
    }
   ],
   "source": [
    "size = np.random.randint(10, 100)\n",
    "a = np.eye(size)+np.random.rand(size)\n",
    "a"
   ]
  },
  {
   "cell_type": "code",
   "execution_count": 98,
   "metadata": {},
   "outputs": [
    {
     "data": {
      "text/plain": [
       "(1.9806290137151532, 1409.797143155338)"
      ]
     },
     "execution_count": 98,
     "metadata": {},
     "output_type": "execute_result"
    }
   ],
   "source": [
    "a.max(), a.sum()"
   ]
  },
  {
   "cell_type": "code",
   "execution_count": 101,
   "metadata": {},
   "outputs": [
    {
     "data": {
      "text/plain": [
       "array([[0.85595633, 0.02824135, 0.46796455, ..., 0.39996441, 0.39775939,\n",
       "        0.37843747],\n",
       "       [0.35106622, 0.53313146, 0.46796455, ..., 0.39996441, 0.39775939,\n",
       "        0.37843747],\n",
       "       [0.35106622, 0.02824135, 0.97285466, ..., 0.39996441, 0.39775939,\n",
       "        0.37843747],\n",
       "       ...,\n",
       "       [0.35106622, 0.02824135, 0.46796455, ..., 0.90485452, 0.39775939,\n",
       "        0.37843747],\n",
       "       [0.35106622, 0.02824135, 0.46796455, ..., 0.39996441, 0.9026495 ,\n",
       "        0.37843747],\n",
       "       [0.35106622, 0.02824135, 0.46796455, ..., 0.39996441, 0.39775939,\n",
       "        0.88332758]])"
      ]
     },
     "execution_count": 101,
     "metadata": {},
     "output_type": "execute_result"
    }
   ],
   "source": [
    "a/a.max()"
   ]
  },
  {
   "cell_type": "code",
   "execution_count": 102,
   "metadata": {},
   "outputs": [
    {
     "data": {
      "text/plain": [
       "array([[ 1.13141308, -0.50798322,  0.3629453 , ...,  0.22826225,\n",
       "         0.22389494,  0.18562537],\n",
       "       [ 0.13141308,  0.49201678,  0.3629453 , ...,  0.22826225,\n",
       "         0.22389494,  0.18562537],\n",
       "       [ 0.13141308, -0.50798322,  1.3629453 , ...,  0.22826225,\n",
       "         0.22389494,  0.18562537],\n",
       "       ...,\n",
       "       [ 0.13141308, -0.50798322,  0.3629453 , ...,  1.22826225,\n",
       "         0.22389494,  0.18562537],\n",
       "       [ 0.13141308, -0.50798322,  0.3629453 , ...,  0.22826225,\n",
       "         1.22389494,  0.18562537],\n",
       "       [ 0.13141308, -0.50798322,  0.3629453 , ...,  0.22826225,\n",
       "         0.22389494,  1.18562537]])"
      ]
     },
     "execution_count": 102,
     "metadata": {},
     "output_type": "execute_result"
    }
   ],
   "source": [
    "a-a.mean(axis = 1)"
   ]
  },
  {
   "cell_type": "code",
   "execution_count": 104,
   "metadata": {
    "scrolled": true
   },
   "outputs": [
    {
     "data": {
      "text/plain": [
       "array([[1.69533194, 0.05593564, 0.92686416, ..., 0.79218111, 0.7878138 ,\n",
       "        0.74954423],\n",
       "       [0.69533194, 1.05593564, 0.92686416, ..., 0.79218111, 0.7878138 ,\n",
       "        0.74954423],\n",
       "       [0.69533194, 0.05593564, 1.92686416, ..., 0.79218111, 0.7878138 ,\n",
       "        0.74954423],\n",
       "       ...,\n",
       "       [0.69533194, 0.05593564, 0.92686416, ..., 1.79218111, 0.7878138 ,\n",
       "        0.74954423],\n",
       "       [0.69533194, 0.05593564, 0.92686416, ..., 0.79218111, 1.7878138 ,\n",
       "        0.74954423],\n",
       "       [0.69533194, 0.05593564, 0.92686416, ..., 0.79218111, 0.7878138 ,\n",
       "        1.74954423]])"
      ]
     },
     "execution_count": 104,
     "metadata": {},
     "output_type": "execute_result"
    }
   ],
   "source": [
    "a[a == a.max()] = -1\n",
    "a"
   ]
  },
  {
   "cell_type": "markdown",
   "metadata": {},
   "source": [
    "Упражнение 5\n",
    "Напишите функцию, которая берет многомерный вещественный массив с пропущенными значениями (np.nan) и возвращает его копию с заполненными пропусками (заменять средним значением всех элементов массива). Если в массиве одни пропущенные значения, заполните их нулями."
   ]
  },
  {
   "cell_type": "code",
   "execution_count": 7,
   "metadata": {},
   "outputs": [
    {
     "data": {
      "text/plain": [
       "array([[[[0., 0., 0., 0.],\n",
       "         [0., 0., 0., 0.],\n",
       "         [0., 0., 0., 0.]],\n",
       "\n",
       "        [[0., 0., 0., 0.],\n",
       "         [0., 0., 0., 0.],\n",
       "         [0., 0., 0., 0.]]],\n",
       "\n",
       "\n",
       "       [[[0., 0., 0., 0.],\n",
       "         [0., 0., 0., 0.],\n",
       "         [0., 0., 0., 0.]],\n",
       "\n",
       "        [[0., 0., 0., 0.],\n",
       "         [0., 0., 0., 0.],\n",
       "         [0., 0., 0., 0.]]]])"
      ]
     },
     "execution_count": 7,
     "metadata": {},
     "output_type": "execute_result"
    }
   ],
   "source": [
    "a = np.full((2,2,3,4), np.nan, dtype='float')\n",
    "a[np.isnan(a) == 1] = 0\n",
    "a"
   ]
  },
  {
   "cell_type": "markdown",
   "metadata": {},
   "source": [
    "Упражнение 6\n",
    "Напишите функцию которая нормализирует заданный numpy-массив, так чтобы его значения лежали в интервале $[0, 1]$."
   ]
  },
  {
   "cell_type": "code",
   "execution_count": 116,
   "metadata": {},
   "outputs": [],
   "source": [
    "def normalization(x):\n",
    "    x = (x-x.min())/(x.max()-x.min())\n",
    "    print(x)"
   ]
  },
  {
   "cell_type": "code",
   "execution_count": 117,
   "metadata": {},
   "outputs": [
    {
     "name": "stdout",
     "output_type": "stream",
     "text": [
      "[0.         0.02040816 0.04081633 0.06122449 0.08163265 0.10204082\n",
      " 0.12244898 0.14285714 0.16326531 0.18367347 0.20408163 0.2244898\n",
      " 0.24489796 0.26530612 0.28571429 0.30612245 0.32653061 0.34693878\n",
      " 0.36734694 0.3877551  0.40816327 0.42857143 0.44897959 0.46938776\n",
      " 0.48979592 0.51020408 0.53061224 0.55102041 0.57142857 0.59183673\n",
      " 0.6122449  0.63265306 0.65306122 0.67346939 0.69387755 0.71428571\n",
      " 0.73469388 0.75510204 0.7755102  0.79591837 0.81632653 0.83673469\n",
      " 0.85714286 0.87755102 0.89795918 0.91836735 0.93877551 0.95918367\n",
      " 0.97959184 1.        ]\n"
     ]
    }
   ],
   "source": [
    "a = np.arange(0,100,2)\n",
    "normalization(a)"
   ]
  },
  {
   "cell_type": "markdown",
   "metadata": {},
   "source": [
    "Упражнение 7\n",
    "Запишите numpy-array в файл.\n",
    "Считайте numpy-array из файла."
   ]
  },
  {
   "cell_type": "code",
   "execution_count": 120,
   "metadata": {},
   "outputs": [],
   "source": [
    "a = np.array([1,2,3,4])\n",
    "np.save('Ex_7', a)"
   ]
  },
  {
   "cell_type": "code",
   "execution_count": 121,
   "metadata": {},
   "outputs": [
    {
     "data": {
      "text/plain": [
       "array([1, 2, 3, 4])"
      ]
     },
     "execution_count": 121,
     "metadata": {},
     "output_type": "execute_result"
    }
   ],
   "source": [
    "a = np.load('Ex_7.npy')\n",
    "a"
   ]
  },
  {
   "cell_type": "markdown",
   "metadata": {},
   "source": [
    "Упражнение 8\n",
    "Создайте случайный массив\n",
    "Найдите в массиве элемент ближайший к данному"
   ]
  },
  {
   "cell_type": "code",
   "execution_count": 135,
   "metadata": {},
   "outputs": [],
   "source": [
    "def find_nearest(a, x):\n",
    "    a = np.array(a)\n",
    "    i = (np.abs(a - x)).argmin()\n",
    "    print(a[i])"
   ]
  },
  {
   "cell_type": "code",
   "execution_count": 139,
   "metadata": {},
   "outputs": [
    {
     "name": "stdout",
     "output_type": "stream",
     "text": [
      "26.8\n"
     ]
    }
   ],
   "source": [
    "find_nearest(np.arange(0,100,0.4), 27)"
   ]
  },
  {
   "cell_type": "markdown",
   "metadata": {},
   "source": [
    "Упражнение 9\n",
    "Напишите функцию, которая возвращает n x m целочисленную матрицу с заданным значением на границах матрицы и с заданным значением внутри"
   ]
  },
  {
   "cell_type": "code",
   "execution_count": 211,
   "metadata": {},
   "outputs": [],
   "source": [
    "def user_matrix (m,n,i,j):\n",
    "    a = np.ones((m,n))\n",
    "    a[:] = i\n",
    "    a[1:-1,1:-1] = j\n",
    "    return(a)"
   ]
  },
  {
   "cell_type": "code",
   "execution_count": 213,
   "metadata": {},
   "outputs": [
    {
     "data": {
      "text/plain": [
       "array([[ 10.,  10.,  10.,  10.,  10.,  10.,  10.],\n",
       "       [ 10., 100., 100., 100., 100., 100.,  10.],\n",
       "       [ 10., 100., 100., 100., 100., 100.,  10.],\n",
       "       [ 10.,  10.,  10.,  10.,  10.,  10.,  10.]])"
      ]
     },
     "execution_count": 213,
     "metadata": {},
     "output_type": "execute_result"
    }
   ],
   "source": [
    "user_matrix (4,7,10,100)"
   ]
  },
  {
   "cell_type": "markdown",
   "metadata": {},
   "source": [
    "Упражнение 10\n",
    "Напишите функцию, которая сортирует строки данной матрицы по значениям заданного столбца в порядке убывания."
   ]
  },
  {
   "cell_type": "code",
   "execution_count": 224,
   "metadata": {},
   "outputs": [
    {
     "data": {
      "text/plain": [
       "array([[1, 7, 2],\n",
       "       [3, 4, 5]])"
      ]
     },
     "execution_count": 224,
     "metadata": {},
     "output_type": "execute_result"
    }
   ],
   "source": [
    "a = np.array([[1, 7, 2], [3, 4, 5]])\n",
    "a"
   ]
  },
  {
   "cell_type": "code",
   "execution_count": 225,
   "metadata": {},
   "outputs": [
    {
     "data": {
      "text/plain": [
       "array([[3, 4, 5],\n",
       "       [1, 7, 2]])"
      ]
     },
     "execution_count": 225,
     "metadata": {},
     "output_type": "execute_result"
    }
   ],
   "source": [
    "a[a[:,2][::-1].argsort()]"
   ]
  }
 ],
 "metadata": {
  "kernelspec": {
   "display_name": "Python 3",
   "language": "python",
   "name": "python3"
  },
  "language_info": {
   "codemirror_mode": {
    "name": "ipython",
    "version": 3
   },
   "file_extension": ".py",
   "mimetype": "text/x-python",
   "name": "python",
   "nbconvert_exporter": "python",
   "pygments_lexer": "ipython3",
   "version": "3.7.4"
  }
 },
 "nbformat": 4,
 "nbformat_minor": 2
}
